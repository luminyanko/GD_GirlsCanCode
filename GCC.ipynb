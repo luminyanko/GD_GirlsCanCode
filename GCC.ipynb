{
  "nbformat": 4,
  "nbformat_minor": 0,
  "metadata": {
    "colab": {
      "name": "GCC.ipynb",
      "provenance": [],
      "authorship_tag": "ABX9TyOeJXa5w1YAvoKCBQHNh1Op",
      "include_colab_link": true
    },
    "kernelspec": {
      "name": "python3",
      "display_name": "Python 3"
    },
    "language_info": {
      "name": "python"
    }
  },
  "cells": [
    {
      "cell_type": "markdown",
      "metadata": {
        "id": "view-in-github",
        "colab_type": "text"
      },
      "source": [
        "<a href=\"https://colab.research.google.com/github/luminyanko/GD_GirlsCanCode/blob/master/GCC.ipynb\" target=\"_parent\"><img src=\"https://colab.research.google.com/assets/colab-badge.svg\" alt=\"Open In Colab\"/></a>"
      ]
    },
    {
      "cell_type": "markdown",
      "metadata": {
        "id": "NbSbgahfVc1l"
      },
      "source": [
        "# Permutations"
      ]
    },
    {
      "cell_type": "code",
      "metadata": {
        "colab": {
          "base_uri": "https://localhost:8080/"
        },
        "id": "ly1_FcyLVkz1",
        "outputId": "27e31ce0-5b39-4a2d-8b0c-91f5bf2aea4e"
      },
      "source": [
        "def get_permutations(string=''):\n",
        "    # validation to protect from empty string and type errors\n",
        "    try:\n",
        "        if len(string):\n",
        "            all_permutations(string)\n",
        "        else:\n",
        "            print('String is empty')\n",
        "    except TypeError:\n",
        "        print('Type error: check if variable is string')\n",
        "\n",
        "\n",
        "def all_permutations(string, step=0):\n",
        "    # if the step length is the length of the string it means we reached the end\n",
        "    try:\n",
        "        if step == len(string):\n",
        "            # add the last\n",
        "            print(''.join(string))\n",
        "\n",
        "        # right side is not touched\n",
        "        for i in range(step, len(string)):\n",
        "            copied_string = [ch for ch in string]\n",
        "            # swap char and next char in string\n",
        "            copied_string[step], copied_string[i] = copied_string[i], copied_string[step]\n",
        "            # go to the next char to the right side\n",
        "            all_permutations(copied_string, step + 1)\n",
        "\n",
        "    except TypeError:\n",
        "        print(\"TypeError: check the type of input string\")\n",
        "\n",
        "\n",
        "get_permutations(\"ABC\")\n",
        "get_permutations(12)\n",
        "get_permutations()\n",
        "# permutation(\"Hello, world!\")\n"
      ],
      "execution_count": null,
      "outputs": [
        {
          "output_type": "stream",
          "name": "stdout",
          "text": [
            "ABC\n",
            "ACB\n",
            "BAC\n",
            "BCA\n",
            "CBA\n",
            "CAB\n",
            "Type error: check if variable is string\n",
            "String is empty\n"
          ]
        }
      ]
    },
    {
      "cell_type": "markdown",
      "metadata": {
        "id": "h_gD8jyEVo8D"
      },
      "source": [
        "# BasicStatistics | Class Implementation"
      ]
    },
    {
      "cell_type": "code",
      "metadata": {
        "colab": {
          "base_uri": "https://localhost:8080/"
        },
        "id": "UvDe46vzVt4p",
        "outputId": "7fd293df-8c4a-4dcc-ff78-ef4a31f74f1b"
      },
      "source": [
        "class BasicStatistics:\n",
        "    sequence = [0]\n",
        "\n",
        "    def __init__(self, sequence):\n",
        "        if len(sequence) > 0:\n",
        "            self.sequence = sequence\n",
        "\n",
        "    def mean(self):\n",
        "        try:\n",
        "            sum_of_numbers = 0\n",
        "            for num in self.sequence:\n",
        "                sum_of_numbers += num\n",
        "            return sum_of_numbers / len(self.sequence)\n",
        "        except ZeroDivisionError:\n",
        "            print(\"Division by zero. Check if sequence is not empty.\")\n",
        "\n",
        "    def median(self):\n",
        "        seq = sorted(self.sequence)\n",
        "        mid_index = len(seq) // 2\n",
        "        if len(seq) % 2:\n",
        "            return seq[mid_index]\n",
        "        else:\n",
        "            mid_num = (seq[mid_index - 1] + seq[mid_index]) / 2\n",
        "            return mid_num\n",
        "\n",
        "    def min(self):\n",
        "        # return min(self.sequence)\n",
        "        min_num = self.sequence[0]\n",
        "        for num in self.sequence:\n",
        "            if num < min_num:\n",
        "                min_number = num\n",
        "        return min_num\n",
        "\n",
        "    def max(self):\n",
        "        # return max(self.sequence) \n",
        "        max_num = self.sequence[0]\n",
        "        for num in self.sequence:\n",
        "            if num > max_num:\n",
        "                max_num = num\n",
        "        return max_num\n",
        "\n",
        "    def count(self):\n",
        "        return len(self.sequence)\n",
        "\n",
        "\n",
        "seq = BasicStatistics([3, 1, 999, 1, 11])\n",
        "# seq = BasicStatistics([])\n",
        "print(f'Mean :{seq.mean()}')\n",
        "print(f'Median : {seq.median()}')\n",
        "print(f'Max: {seq.max()}')\n",
        "print(f'Min: {seq.min()}')\n",
        "print(f'Count: {seq.count()}')\n"
      ],
      "execution_count": null,
      "outputs": [
        {
          "output_type": "stream",
          "name": "stdout",
          "text": [
            "Mean :203.0\n",
            "Median : 3\n",
            "Max :999\n",
            "Min :3\n",
            "Count :5\n"
          ]
        }
      ]
    },
    {
      "cell_type": "markdown",
      "metadata": {
        "id": "ZFTvC3hZV8tM"
      },
      "source": [
        "# Pandas | Articles dataset"
      ]
    },
    {
      "cell_type": "code",
      "metadata": {
        "colab": {
          "base_uri": "https://localhost:8080/"
        },
        "id": "KDTlSAvjg3Fi",
        "outputId": "7e9e3c83-4922-4964-b205-0dd97d570cfb"
      },
      "source": [
        "from google.colab import drive\n",
        "drive.mount('/content/drive')"
      ],
      "execution_count": null,
      "outputs": [
        {
          "output_type": "stream",
          "name": "stdout",
          "text": [
            "Mounted at /content/drive\n"
          ]
        }
      ]
    },
    {
      "cell_type": "code",
      "metadata": {
        "colab": {
          "base_uri": "https://localhost:8080/",
          "height": 265
        },
        "id": "sRH_QPCxYsPv",
        "outputId": "2d657a2c-eb8f-45a7-8243-39ac31aef893"
      },
      "source": [
        "import pandas as pd\n",
        "import matplotlib.pyplot as plt\n",
        "\n",
        "from google.colab import files\n",
        "df = pd.read_csv('/content/drive/My Drive/Colab Notebooks/medium_data.csv')\n",
        "\n",
        "claps = df['claps'].tolist()\n",
        "reading_time = df['reading_time'].tolist()\n",
        "\n",
        "plt.scatter(reading_time, claps)\n",
        "plt.show()\n"
      ],
      "execution_count": null,
      "outputs": [
        {
          "output_type": "display_data",
          "data": {
            "image/png": "[encoded data removed]",
            "text/plain": [
              "<Figure size 432x288 with 1 Axes>"
            ]
          },
          "metadata": {
            "needs_background": "light"
          }
        }
      ]
    },
    {
      "cell_type": "markdown",
      "metadata": {
        "id": "HZ_hBE3teKw-"
      },
      "source": [
        "As we culd see, a lot of articles with reading time (3-15 min) get more claps, but at the same time, articles with reading time 0-3 min get less claps. "
      ]
    }
  ]
}